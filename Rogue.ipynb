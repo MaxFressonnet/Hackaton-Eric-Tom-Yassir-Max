{
 "metadata": {
  "language_info": {
   "codemirror_mode": {
    "name": "ipython",
    "version": 3
   },
   "file_extension": ".py",
   "mimetype": "text/x-python",
   "name": "python",
   "nbconvert_exporter": "python",
   "pygments_lexer": "ipython3",
   "version": "3.8.3-final"
  },
  "orig_nbformat": 2,
  "kernelspec": {
   "name": "python3",
   "display_name": "Python 3",
   "language": "python"
  }
 },
 "nbformat": 4,
 "nbformat_minor": 2,
 "cells": [
  {
   "cell_type": "code",
   "execution_count": 22,
   "metadata": {},
   "outputs": [],
   "source": [
    "class Map:\n",
    "\n",
    "    def __init__(self,mur,porte,couloir):\n",
    "        self.murs = []\n",
    "        for k in range(len(mur)):\n",
    "            for i in range(mur[k][0][0],mur[k][1][0]):\n",
    "                self.murs.append([mur[k][0][1],i])\n",
    "                self.murs.append([mur[k][1][1],i])\n",
    "            for j in range(mur[k][0][1],mur[k][1][1]):\n",
    "                self.murs.append([j,mur[k][0][0]])\n",
    "                self.murs.append([j,mur[k][1][0]])\n",
    "        self.portes = porte\n",
    "        for x in self.murs:\n",
    "            for y in porte:\n",
    "                if x==y:\n",
    "                    del(x)\n",
    "        self.couloirs = []\n",
    "        for k in range(len(couloir)):\n",
    "            if len(couloir[k])>1:\n",
    "                for i in range(len(couloir[k]) - 1):\n",
    "                    if i < len(couloir[k]) - 2:\n",
    "                        if couloir[k][i][0] != couloir[k][i + 1][0]:\n",
    "                            for j in range(couloir[k][i][0],couloir[k][i + 1][0]):\n",
    "                                self.couloirs.append([j,couloir[k][i][1]])\n",
    "                        else:\n",
    "                            for m in range(couloir[k][i][1],couloir[k][i + 1][1]):\n",
    "                                self.couloirs.append([couloir[k][i][0],m])\n",
    "                    else:\n",
    "                        if couloir[k][i][0] != couloir[k][i + 1][0]:\n",
    "                            for j in range(couloir[k][i][0],couloir[k][i + 1][0]+1):\n",
    "                                self.couloirs.append([j,couloir[k][i][1]])\n",
    "                        else:\n",
    "                            for m in range(couloir[k][i][1],couloir[k][i + 1][1]+1):\n",
    "                                self.couloirs.append([couloir[k][i][0],m])"
   ]
  },
  {
   "cell_type": "code",
   "execution_count": 23,
   "metadata": {},
   "outputs": [],
   "source": [
    "mur = [[[1,1],[14,8]],[[5,15],[26,22]]]\n",
    "porte = [[13,7],[22,15]]\n",
    "couloir = [[[14,7],[22,7],[22,14]]]\n",
    "\n",
    "map1 = Map(mur,porte,couloir)"
   ]
  },
  {
   "cell_type": "code",
   "execution_count": 24,
   "metadata": {},
   "outputs": [
    {
     "output_type": "execute_result",
     "data": {
      "text/plain": [
       "[[14, 7],\n",
       " [15, 7],\n",
       " [16, 7],\n",
       " [17, 7],\n",
       " [18, 7],\n",
       " [19, 7],\n",
       " [20, 7],\n",
       " [21, 7],\n",
       " [22, 7],\n",
       " [22, 8],\n",
       " [22, 9],\n",
       " [22, 10],\n",
       " [22, 11],\n",
       " [22, 12],\n",
       " [22, 13],\n",
       " [22, 14]]"
      ]
     },
     "metadata": {},
     "execution_count": 24
    }
   ],
   "source": [
    "map1.couloirs"
   ]
  },
  {
   "cell_type": "code",
   "execution_count": null,
   "metadata": {},
   "outputs": [],
   "source": []
  }
 ]
}