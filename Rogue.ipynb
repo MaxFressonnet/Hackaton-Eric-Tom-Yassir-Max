{
 "metadata": {
  "language_info": {
   "codemirror_mode": {
    "name": "ipython",
    "version": 3
   },
   "file_extension": ".py",
   "mimetype": "text/x-python",
   "name": "python",
   "nbconvert_exporter": "python",
   "pygments_lexer": "ipython3",
   "version": "3.8.3-final"
  },
  "orig_nbformat": 2,
  "kernelspec": {
   "name": "python3",
   "display_name": "Python 3",
   "language": "python"
  }
 },
 "nbformat": 4,
 "nbformat_minor": 2,
 "cells": [
  {
   "cell_type": "code",
   "execution_count": 32,
   "metadata": {},
   "outputs": [],
   "source": [
    "class Map:\n",
    "\n",
    "    def __init__(self,mur,porte,couloir):\n",
    "        self.murs = set([])\n",
    "        for k in range(len(mur)):\n",
    "            for i in range(mur[k][0][0],mur[k][1][0]):\n",
    "                self.murs.add((mur[k][0][1],i))\n",
    "                self.murs.add((mur[k][1][1],i))\n",
    "            for j in range(mur[k][0][1],mur[k][1][1]):\n",
    "                self.murs.add((j,mur[k][0][0]))\n",
    "                self.murs.add((j,mur[k][1][0]))\n",
    "        self.portes = set(porte)\n",
    "        for y in porte:\n",
    "            if y in self.murs:\n",
    "                self.murs.remove(y)\n",
    "        self.couloirs = set([])\n",
    "        for k in range(len(couloir)):\n",
    "            if len(couloir[k])>1:\n",
    "                for i in range(len(couloir[k]) - 1):\n",
    "                    if i < len(couloir[k]) - 2:\n",
    "                        if couloir[k][i][0] != couloir[k][i + 1][0]:\n",
    "                            for j in range(couloir[k][i][0],couloir[k][i + 1][0]):\n",
    "                                self.couloirs.add((j,couloir[k][i][1]))\n",
    "                        else:\n",
    "                            for m in range(couloir[k][i][1],couloir[k][i + 1][1]):\n",
    "                                self.couloirs.add((couloir[k][i][0],m))\n",
    "                    else:\n",
    "                        if couloir[k][i][0] != couloir[k][i + 1][0]:\n",
    "                            for j in range(couloir[k][i][0],couloir[k][i + 1][0]+1):\n",
    "                                self.couloirs.add((j,couloir[k][i][1]))\n",
    "                        else:\n",
    "                            for m in range(couloir[k][i][1],couloir[k][i + 1][1]+1):\n",
    "                                self.couloirs.add((couloir[k][i][0],m))"
   ]
  },
  {
   "cell_type": "code",
   "execution_count": 33,
   "metadata": {},
   "outputs": [],
   "source": [
    "mur = [[[1,1],[14,8]],[[5,15],[26,22]]]\n",
    "porte = [(13,7),(22,15)]\n",
    "couloir = [[[14,7],[22,7],[22,14]]]\n",
    "\n",
    "map1 = Map(mur,porte,couloir)"
   ]
  }
 ]
}